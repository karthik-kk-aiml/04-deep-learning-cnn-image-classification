{
 "cells": [
  {
   "cell_type": "code",
   "execution_count": 1,
   "metadata": {},
   "outputs": [
    {
     "name": "stderr",
     "output_type": "stream",
     "text": [
      "2024-09-25 12:47:55.723142: E external/local_xla/xla/stream_executor/cuda/cuda_dnn.cc:9261] Unable to register cuDNN factory: Attempting to register factory for plugin cuDNN when one has already been registered\n",
      "2024-09-25 12:47:55.723355: E external/local_xla/xla/stream_executor/cuda/cuda_fft.cc:607] Unable to register cuFFT factory: Attempting to register factory for plugin cuFFT when one has already been registered\n",
      "2024-09-25 12:47:55.899847: E external/local_xla/xla/stream_executor/cuda/cuda_blas.cc:1515] Unable to register cuBLAS factory: Attempting to register factory for plugin cuBLAS when one has already been registered\n",
      "2024-09-25 12:47:56.336992: I tensorflow/core/platform/cpu_feature_guard.cc:182] This TensorFlow binary is optimized to use available CPU instructions in performance-critical operations.\n",
      "To enable the following instructions: AVX2 FMA, in other operations, rebuild TensorFlow with the appropriate compiler flags.\n",
      "2024-09-25 12:48:00.473758: W tensorflow/compiler/tf2tensorrt/utils/py_utils.cc:38] TF-TRT Warning: Could not find TensorRT\n"
     ]
    },
    {
     "name": "stdout",
     "output_type": "stream",
     "text": [
      "Downloading data from https://www.cs.toronto.edu/~kriz/cifar-10-python.tar.gz\n",
      "170498071/170498071 [==============================] - 2s 0us/step\n"
     ]
    }
   ],
   "source": [
    "import numpy as np\n",
    "import tensorflow as tf\n",
    "from tensorflow import keras\n",
    "\n",
    "from tensorflow.keras.datasets import cifar10\n",
    "from tensorflow.keras.utils import to_categorical\n",
    "from tensorflow.keras import layers, models\n",
    "import matplotlib.pyplot as plt\n",
    "import cv2\n",
    "\n",
    "# Load CIFAR-10 dataset\n",
    "(x_train, y_train), (x_test, y_test) = cifar10.load_data()\n",
    "\n",
    "# Normalize the pixel values to [0, 1]\n",
    "x_train = x_train.astype('float32') / 255.0\n",
    "x_test = x_test.astype('float32') / 255.0\n",
    "\n",
    "# Convert class vectors to binary class matrices thru One-hot Encoding\n",
    "y_train = keras.utils.to_categorical(y_train, 10)\n",
    "y_test = keras.utils.to_categorical(y_test, 10)"
   ]
  },
  {
   "cell_type": "code",
   "execution_count": 2,
   "metadata": {},
   "outputs": [
    {
     "name": "stdout",
     "output_type": "stream",
     "text": [
      "(50000, 32, 32, 3)\n",
      "(10000, 32, 32, 3)\n",
      "(50000, 10)\n",
      "float32\n",
      "4\n"
     ]
    }
   ],
   "source": [
    "\n",
    "print(x_train.shape)\n",
    "print(x_test.shape)\n",
    "print(y_train.shape)\n",
    "\n",
    "print(x_train.dtype)\n",
    "print(x_train.ndim)"
   ]
  },
  {
   "cell_type": "code",
   "execution_count": 3,
   "metadata": {},
   "outputs": [],
   "source": [
    "from keras.backend import clear_session\n",
    "clear_session()"
   ]
  },
  {
   "cell_type": "code",
   "execution_count": 4,
   "metadata": {},
   "outputs": [
    {
     "name": "stderr",
     "output_type": "stream",
     "text": [
      "2024-09-25 12:48:17.377741: I external/local_xla/xla/stream_executor/cuda/cuda_executor.cc:901] successful NUMA node read from SysFS had negative value (-1), but there must be at least one NUMA node, so returning NUMA node zero. See more at https://github.com/torvalds/linux/blob/v6.0/Documentation/ABI/testing/sysfs-bus-pci#L344-L355\n",
      "2024-09-25 12:48:18.023391: I external/local_xla/xla/stream_executor/cuda/cuda_executor.cc:901] successful NUMA node read from SysFS had negative value (-1), but there must be at least one NUMA node, so returning NUMA node zero. See more at https://github.com/torvalds/linux/blob/v6.0/Documentation/ABI/testing/sysfs-bus-pci#L344-L355\n",
      "2024-09-25 12:48:18.023772: I external/local_xla/xla/stream_executor/cuda/cuda_executor.cc:901] successful NUMA node read from SysFS had negative value (-1), but there must be at least one NUMA node, so returning NUMA node zero. See more at https://github.com/torvalds/linux/blob/v6.0/Documentation/ABI/testing/sysfs-bus-pci#L344-L355\n",
      "2024-09-25 12:48:18.028752: I external/local_xla/xla/stream_executor/cuda/cuda_executor.cc:901] successful NUMA node read from SysFS had negative value (-1), but there must be at least one NUMA node, so returning NUMA node zero. See more at https://github.com/torvalds/linux/blob/v6.0/Documentation/ABI/testing/sysfs-bus-pci#L344-L355\n",
      "2024-09-25 12:48:18.029349: I external/local_xla/xla/stream_executor/cuda/cuda_executor.cc:901] successful NUMA node read from SysFS had negative value (-1), but there must be at least one NUMA node, so returning NUMA node zero. See more at https://github.com/torvalds/linux/blob/v6.0/Documentation/ABI/testing/sysfs-bus-pci#L344-L355\n",
      "2024-09-25 12:48:18.029686: I external/local_xla/xla/stream_executor/cuda/cuda_executor.cc:901] successful NUMA node read from SysFS had negative value (-1), but there must be at least one NUMA node, so returning NUMA node zero. See more at https://github.com/torvalds/linux/blob/v6.0/Documentation/ABI/testing/sysfs-bus-pci#L344-L355\n",
      "2024-09-25 12:48:23.399645: I external/local_xla/xla/stream_executor/cuda/cuda_executor.cc:901] successful NUMA node read from SysFS had negative value (-1), but there must be at least one NUMA node, so returning NUMA node zero. See more at https://github.com/torvalds/linux/blob/v6.0/Documentation/ABI/testing/sysfs-bus-pci#L344-L355\n",
      "2024-09-25 12:48:23.400009: I external/local_xla/xla/stream_executor/cuda/cuda_executor.cc:901] successful NUMA node read from SysFS had negative value (-1), but there must be at least one NUMA node, so returning NUMA node zero. See more at https://github.com/torvalds/linux/blob/v6.0/Documentation/ABI/testing/sysfs-bus-pci#L344-L355\n",
      "2024-09-25 12:48:23.400460: I external/local_xla/xla/stream_executor/cuda/cuda_executor.cc:901] successful NUMA node read from SysFS had negative value (-1), but there must be at least one NUMA node, so returning NUMA node zero. See more at https://github.com/torvalds/linux/blob/v6.0/Documentation/ABI/testing/sysfs-bus-pci#L344-L355\n",
      "2024-09-25 12:48:23.400675: I tensorflow/core/common_runtime/gpu/gpu_device.cc:1929] Created device /job:localhost/replica:0/task:0/device:GPU:0 with 14602 MB memory:  -> device: 0, name: Tesla V100-PCIE-16GB, pci bus id: 0000:00:05.0, compute capability: 7.0\n",
      "2024-09-25 12:48:25.131611: W external/local_tsl/tsl/framework/cpu_allocator_impl.cc:83] Allocation of 2457600000 exceeds 10% of free system memory.\n"
     ]
    }
   ],
   "source": [
    "# First step - resize the Training and Test sets.\n",
    "\n",
    "# Resize the training & test images using Tensorflow function\n",
    "x_train_resized = tf.image.resize(x_train, (64, 64))\n",
    "x_test_resized = tf.image.resize(x_test, (64, 64))\n",
    "\n",
    "# Convert the images back to numpy arrays\n",
    "x_train_resized = x_train_resized.numpy()\n",
    "x_test_resized = x_test_resized.numpy()\n",
    "\n",
    "# One-hot encode labels\n",
    "#y_train = keras.utils.to_categorical(y_train, 10)\n",
    "#y_test = keras.utils.to_categorical(y_test, 10)"
   ]
  },
  {
   "cell_type": "code",
   "execution_count": 5,
   "metadata": {},
   "outputs": [
    {
     "name": "stdout",
     "output_type": "stream",
     "text": [
      "(50000, 64, 64, 3)\n",
      "(10000, 64, 64, 3)\n",
      "(50000, 32, 32, 3)\n",
      "(10000, 32, 32, 3)\n",
      "(50000, 10)\n",
      "(10000, 10)\n",
      "float32\n",
      "float32\n",
      "float32\n",
      "float32\n",
      "float32\n",
      "float32\n"
     ]
    }
   ],
   "source": [
    "print(x_train_resized.shape)\n",
    "print(x_test_resized.shape)\n",
    "print(x_train.shape)\n",
    "print(x_test.shape)\n",
    "print(y_train.shape)\n",
    "print(y_test.shape)\n",
    "\n",
    "print(x_train_resized.dtype)\n",
    "print(x_test_resized.dtype)\n",
    "print(x_train.dtype)\n",
    "print(x_test.dtype)\n",
    "print(y_train.dtype)\n",
    "print(y_test.dtype)"
   ]
  },
  {
   "cell_type": "code",
   "execution_count": 6,
   "metadata": {},
   "outputs": [],
   "source": [
    "# DEFINE the new Model (with another layer - deeper)\n",
    "\n",
    "input_shape = (64, 64, 3)\n",
    "\n",
    "model_vgg = keras.Sequential(\n",
    "    [\n",
    "        keras.Input(shape=input_shape),\n",
    "        layers.Conv2D(64, kernel_size=(3, 3), activation=\"relu\", padding='same'),\n",
    "        layers.Conv2D(64, kernel_size=(3, 3), activation=\"relu\", padding='same'),\n",
    "        layers.MaxPooling2D(pool_size=(2, 2)),\n",
    "        layers.Conv2D(128, kernel_size=(3, 3), activation=\"relu\", padding='same'),  # Added Extra layer\n",
    "        layers.Conv2D(128, kernel_size=(3, 3), activation=\"relu\", padding='same'),  # Added Extra layer\n",
    "        layers.MaxPooling2D(pool_size=(2, 2)),                                      # Added Extra layer\n",
    "        layers.Conv2D(256, kernel_size=(3, 3), activation=\"relu\", padding='same'),  # Added Extra layer\n",
    "        layers.Conv2D(256, kernel_size=(3, 3), activation=\"relu\", padding='same'),  # Added Extra layer\n",
    "        layers.MaxPooling2D(pool_size=(2, 2)),                                      # Added Extra layer\n",
    "        layers.Flatten(),\n",
    "        layers.Dropout(0.5),\n",
    "        layers.Dense(128, activation=\"relu\"),     #Dense increase to 128 from 100\n",
    "        layers.Dense(10, activation=\"softmax\"),\n",
    "    ]\n",
    ")"
   ]
  },
  {
   "cell_type": "code",
   "execution_count": 7,
   "metadata": {},
   "outputs": [
    {
     "name": "stdout",
     "output_type": "stream",
     "text": [
      "Model: \"sequential\"\n",
      "_________________________________________________________________\n",
      " Layer (type)                Output Shape              Param #   \n",
      "=================================================================\n",
      " conv2d (Conv2D)             (None, 64, 64, 64)        1792      \n",
      "                                                                 \n"
     ]
    },
    {
     "name": "stdout",
     "output_type": "stream",
     "text": [
      " conv2d_1 (Conv2D)           (None, 64, 64, 64)        36928     \n",
      "                                                                 \n",
      " max_pooling2d (MaxPooling2  (None, 32, 32, 64)        0         \n",
      " D)                                                              \n",
      "                                                                 \n",
      " conv2d_2 (Conv2D)           (None, 32, 32, 128)       73856     \n",
      "                                                                 \n",
      " conv2d_3 (Conv2D)           (None, 32, 32, 128)       147584    \n",
      "                                                                 \n",
      " max_pooling2d_1 (MaxPoolin  (None, 16, 16, 128)       0         \n",
      " g2D)                                                            \n",
      "                                                                 \n",
      " conv2d_4 (Conv2D)           (None, 16, 16, 256)       295168    \n",
      "                                                                 \n",
      " conv2d_5 (Conv2D)           (None, 16, 16, 256)       590080    \n",
      "                                                                 \n",
      " max_pooling2d_2 (MaxPoolin  (None, 8, 8, 256)         0         \n",
      " g2D)                                                            \n",
      "                                                                 \n",
      " flatten (Flatten)           (None, 16384)             0         \n",
      "                                                                 \n",
      " dropout (Dropout)           (None, 16384)             0         \n",
      "                                                                 \n",
      " dense (Dense)               (None, 128)               2097280   \n",
      "                                                                 \n",
      " dense_1 (Dense)             (None, 10)                1290      \n",
      "                                                                 \n",
      "=================================================================\n",
      "Total params: 3243978 (12.37 MB)\n",
      "Trainable params: 3243978 (12.37 MB)\n",
      "Non-trainable params: 0 (0.00 Byte)\n",
      "_________________________________________________________________\n"
     ]
    }
   ],
   "source": [
    "\n",
    "# COMPILE the Model\n",
    "\n",
    "model_vgg.compile(loss='categorical_crossentropy',\n",
    "              optimizer='sgd',\n",
    "              metrics = ['accuracy'])\n",
    "\n",
    "model_vgg.summary()"
   ]
  },
  {
   "cell_type": "code",
   "execution_count": 8,
   "metadata": {},
   "outputs": [
    {
     "name": "stderr",
     "output_type": "stream",
     "text": [
      "2024-09-25 12:49:14.060297: W external/local_tsl/tsl/framework/cpu_allocator_impl.cc:83] Allocation of 2457600000 exceeds 10% of free system memory.\n",
      "2024-09-25 12:49:18.485801: W external/local_tsl/tsl/framework/cpu_allocator_impl.cc:83] Allocation of 2457600000 exceeds 10% of free system memory.\n"
     ]
    },
    {
     "name": "stdout",
     "output_type": "stream",
     "text": [
      "Epoch 1/50\n"
     ]
    },
    {
     "name": "stderr",
     "output_type": "stream",
     "text": [
      "2024-09-25 12:49:27.948494: I external/local_xla/xla/stream_executor/cuda/cuda_dnn.cc:454] Loaded cuDNN version 8907\n",
      "2024-09-25 12:49:36.569676: I external/local_xla/xla/service/service.cc:168] XLA service 0x30798330 initialized for platform CUDA (this does not guarantee that XLA will be used). Devices:\n",
      "2024-09-25 12:49:36.569760: I external/local_xla/xla/service/service.cc:176]   StreamExecutor device (0): Tesla V100-PCIE-16GB, Compute Capability 7.0\n",
      "WARNING: All log messages before absl::InitializeLog() is called are written to STDERR\n",
      "I0000 00:00:1727268576.740617      92 device_compiler.h:186] Compiled cluster using XLA!  This line is logged at most once for the lifetime of the process.\n"
     ]
    },
    {
     "name": "stdout",
     "output_type": "stream",
     "text": [
      "98/98 [==============================] - 38s 160ms/step - loss: 2.2978 - accuracy: 0.1169\n",
      "Epoch 2/50\n",
      "98/98 [==============================] - 11s 112ms/step - loss: 2.2801 - accuracy: 0.1427\n",
      "Epoch 3/50\n",
      "98/98 [==============================] - 11s 110ms/step - loss: 2.1879 - accuracy: 0.2004\n",
      "Epoch 4/50\n",
      "98/98 [==============================] - 11s 112ms/step - loss: 2.0825 - accuracy: 0.2421\n",
      "Epoch 5/50\n",
      "98/98 [==============================] - 11s 111ms/step - loss: 2.0104 - accuracy: 0.2757\n",
      "Epoch 6/50\n",
      "98/98 [==============================] - 11s 113ms/step - loss: 1.9551 - accuracy: 0.3030\n",
      "Epoch 7/50\n",
      "98/98 [==============================] - 12s 118ms/step - loss: 1.8906 - accuracy: 0.3288\n",
      "Epoch 8/50\n",
      "98/98 [==============================] - 11s 113ms/step - loss: 1.8460 - accuracy: 0.3440\n",
      "Epoch 9/50\n",
      "98/98 [==============================] - 11s 113ms/step - loss: 1.7944 - accuracy: 0.3624\n",
      "Epoch 10/50\n",
      "98/98 [==============================] - 11s 113ms/step - loss: 1.7477 - accuracy: 0.3786\n",
      "Epoch 11/50\n",
      "98/98 [==============================] - 11s 113ms/step - loss: 1.6883 - accuracy: 0.4000\n",
      "Epoch 12/50\n",
      "98/98 [==============================] - 11s 113ms/step - loss: 1.6418 - accuracy: 0.4191\n",
      "Epoch 13/50\n",
      "98/98 [==============================] - 11s 111ms/step - loss: 1.6031 - accuracy: 0.4322\n",
      "Epoch 14/50\n",
      "98/98 [==============================] - 11s 116ms/step - loss: 1.5671 - accuracy: 0.4424\n",
      "Epoch 15/50\n",
      "98/98 [==============================] - 11s 111ms/step - loss: 1.5255 - accuracy: 0.4587\n",
      "Epoch 16/50\n",
      "98/98 [==============================] - 11s 112ms/step - loss: 1.4950 - accuracy: 0.4701\n",
      "Epoch 17/50\n",
      "98/98 [==============================] - 11s 114ms/step - loss: 1.4701 - accuracy: 0.4785\n",
      "Epoch 18/50\n",
      "98/98 [==============================] - 11s 117ms/step - loss: 1.4476 - accuracy: 0.4877\n",
      "Epoch 19/50\n",
      "98/98 [==============================] - 11s 112ms/step - loss: 1.4229 - accuracy: 0.4940\n",
      "Epoch 20/50\n",
      "98/98 [==============================] - 11s 112ms/step - loss: 1.4034 - accuracy: 0.5010\n",
      "Epoch 21/50\n",
      "98/98 [==============================] - 11s 114ms/step - loss: 1.3822 - accuracy: 0.5079\n",
      "Epoch 22/50\n",
      "98/98 [==============================] - 11s 114ms/step - loss: 1.3563 - accuracy: 0.5163\n",
      "Epoch 23/50\n",
      "98/98 [==============================] - 11s 116ms/step - loss: 1.3475 - accuracy: 0.5214\n",
      "Epoch 24/50\n",
      "98/98 [==============================] - 11s 112ms/step - loss: 1.3301 - accuracy: 0.5275\n",
      "Epoch 25/50\n",
      "98/98 [==============================] - 11s 111ms/step - loss: 1.3080 - accuracy: 0.5362\n",
      "Epoch 26/50\n",
      "98/98 [==============================] - 11s 113ms/step - loss: 1.2887 - accuracy: 0.5428\n",
      "Epoch 27/50\n",
      "98/98 [==============================] - 11s 113ms/step - loss: 1.2695 - accuracy: 0.5511\n",
      "Epoch 28/50\n",
      "98/98 [==============================] - 11s 114ms/step - loss: 1.2513 - accuracy: 0.5581\n",
      "Epoch 29/50\n",
      "98/98 [==============================] - 11s 115ms/step - loss: 1.2445 - accuracy: 0.5594\n",
      "Epoch 30/50\n",
      "98/98 [==============================] - 11s 113ms/step - loss: 1.2195 - accuracy: 0.5680\n",
      "Epoch 31/50\n",
      "98/98 [==============================] - 11s 112ms/step - loss: 1.1996 - accuracy: 0.5741\n",
      "Epoch 32/50\n",
      "98/98 [==============================] - 11s 111ms/step - loss: 1.1935 - accuracy: 0.5803\n",
      "Epoch 33/50\n",
      "98/98 [==============================] - 11s 111ms/step - loss: 1.1706 - accuracy: 0.5862\n",
      "Epoch 34/50\n",
      "98/98 [==============================] - 11s 117ms/step - loss: 1.1576 - accuracy: 0.5912\n",
      "Epoch 35/50\n",
      "98/98 [==============================] - 11s 113ms/step - loss: 1.1345 - accuracy: 0.6004\n",
      "Epoch 36/50\n",
      "98/98 [==============================] - 11s 113ms/step - loss: 1.1249 - accuracy: 0.6059\n",
      "Epoch 37/50\n",
      "98/98 [==============================] - 11s 111ms/step - loss: 1.1069 - accuracy: 0.6113\n",
      "Epoch 38/50\n",
      "98/98 [==============================] - 11s 112ms/step - loss: 1.0919 - accuracy: 0.6168\n",
      "Epoch 39/50\n",
      "98/98 [==============================] - 11s 114ms/step - loss: 1.0807 - accuracy: 0.6248\n",
      "Epoch 40/50\n",
      "98/98 [==============================] - 12s 118ms/step - loss: 1.0690 - accuracy: 0.6261\n",
      "Epoch 41/50\n",
      "98/98 [==============================] - 11s 116ms/step - loss: 1.0537 - accuracy: 0.6317\n",
      "Epoch 42/50\n",
      "98/98 [==============================] - 11s 116ms/step - loss: 1.0369 - accuracy: 0.6361\n",
      "Epoch 43/50\n",
      "98/98 [==============================] - 11s 113ms/step - loss: 1.0266 - accuracy: 0.6418\n",
      "Epoch 44/50\n",
      "98/98 [==============================] - 11s 113ms/step - loss: 1.0131 - accuracy: 0.6447\n",
      "Epoch 45/50\n",
      "98/98 [==============================] - 12s 118ms/step - loss: 1.0037 - accuracy: 0.6506\n",
      "Epoch 46/50\n",
      "98/98 [==============================] - 11s 112ms/step - loss: 0.9881 - accuracy: 0.6558\n",
      "Epoch 47/50\n",
      "98/98 [==============================] - 11s 114ms/step - loss: 0.9808 - accuracy: 0.6588\n",
      "Epoch 48/50\n",
      "98/98 [==============================] - 11s 111ms/step - loss: 0.9638 - accuracy: 0.6642\n",
      "Epoch 49/50\n",
      "98/98 [==============================] - 11s 111ms/step - loss: 0.9602 - accuracy: 0.6656\n",
      "Epoch 50/50\n",
      "98/98 [==============================] - 11s 116ms/step - loss: 0.9423 - accuracy: 0.6722\n"
     ]
    }
   ],
   "source": [
    "# TRAIN the model with 10 epochs and batch size of 512\n",
    "\n",
    "history2 = model_vgg.fit(x_train_resized, y_train, batch_size=512, epochs=50)"
   ]
  },
  {
   "cell_type": "code",
   "execution_count": 9,
   "metadata": {},
   "outputs": [
    {
     "name": "stdout",
     "output_type": "stream",
     "text": [
      "313/313 [==============================] - 2s 6ms/step\n"
     ]
    }
   ],
   "source": [
    "# Predicting the output for the test split\n",
    "y_pred_vgg = model_vgg.predict(x_test_resized)\n",
    "\n",
    "# use argmax function to findout which class has the highest probability\n",
    "y_pred_vgg_classes = np.argmax(y_pred_vgg, axis=1)  # 10 classes of possible images\n",
    "y_true_classes = np.argmax(y_test, axis=1)  # actual class\n"
   ]
  },
  {
   "cell_type": "code",
   "execution_count": 10,
   "metadata": {},
   "outputs": [
    {
     "data": {
      "image/png": "[encoded data removed]",
      "text/plain": [
       "<Figure size 800x600 with 1 Axes>"
      ]
     },
     "metadata": {},
     "output_type": "display_data"
    }
   ],
   "source": [
    "# Plot the confusion matrix\n",
    "\n",
    "from sklearn.metrics import confusion_matrix\n",
    "import seaborn as sns\n",
    "import matplotlib.pyplot as plt\n",
    "\n",
    "# Generate the confusion matrix\n",
    "conf_matrix = confusion_matrix(y_true_classes, y_pred_vgg_classes)\n",
    "\n",
    "# Plot the confusion matrix using seaborn\n",
    "plt.figure(figsize=(8,6))\n",
    "sns.heatmap(conf_matrix, annot=True, fmt='d', cmap='Blues', cbar=False)\n",
    "plt.title('Confusion Matrix for Deeper Model')\n",
    "plt.xlabel('Predicted Class')\n",
    "plt.ylabel('True Class')\n",
    "plt.show()"
   ]
  },
  {
   "cell_type": "code",
   "execution_count": null,
   "metadata": {},
   "outputs": [],
   "source": []
  }
 ],
 "metadata": {
  "kernelspec": {
   "display_name": "Python 3 (ipykernel)",
   "language": "python",
   "name": "python3"
  },
  "language_info": {
   "codemirror_mode": {
    "name": "ipython",
    "version": 3
   },
   "file_extension": ".py",
   "mimetype": "text/x-python",
   "name": "python",
   "nbconvert_exporter": "python",
   "pygments_lexer": "ipython3",
   "version": "3.11.7"
  }
 },
 "nbformat": 4,
 "nbformat_minor": 2
}
